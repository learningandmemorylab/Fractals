{
 "cells": [
  {
   "cell_type": "code",
   "execution_count": 1,
   "metadata": {},
   "outputs": [
    {
     "name": "stdout",
     "output_type": "stream",
     "text": [
      "Done\n"
     ]
    }
   ],
   "source": [
    "import os\n",
    "import random\n",
    "import scipy.stats\n",
    "import numpy as np\n",
    "import pandas as pd\n",
    "import seaborn as sns\n",
    "import scipy.io as spio\n",
    "import matplotlib.pyplot as plt\n",
    "from matplotlib.lines import Line2D\n",
    "from scipy.stats import mannwhitneyu as mwu\n",
    "from mlxtend.evaluate import permutation_test\n",
    "\n",
    "def loadValuesFromFile(inputRawFile):\n",
    "    dictToReturn = {}\n",
    "    imat = spio.loadmat(inputRawFile)\n",
    "    keyList = list(imat.keys())[3:]\n",
    "    for skey in keyList:\n",
    "        dictToReturn.update({skey:imat.get(skey).flatten()})\n",
    "    return dictToReturn\n",
    "\n",
    "def generateFigure(rawInputPath,savInputPath):\n",
    "    dictToPlot = loadValuesFromFile(rawInputPath)\n",
    "    xArr1 = np.random.uniform(0.19,.21,size=(8,))\n",
    "    xArr2 = np.random.uniform(0.29,.31,size=(8,))\n",
    "    \n",
    "    fig = plt.figure(figsize=(30,30))\n",
    "    ax1 = fig.add_subplot(3,6,1)\n",
    "    ax2 = fig.add_subplot(3,6,2)\n",
    "    ax3 = fig.add_subplot(3,6,3)\n",
    "    ax4 = fig.add_subplot(3,6,4)\n",
    "    ax5 = fig.add_subplot(3,6,5)\n",
    "    ax6 = fig.add_subplot(3,6,6)\n",
    "    \n",
    "    ax1.scatter(xArr1,dictToPlot['hpcStartAcc'],c='k')\n",
    "    ax1.scatter(xArr2,dictToPlot['pfcStartAcc'],c='dimgrey')\n",
    "    ax2.scatter(xArr1,dictToPlot['hpcGoalAcc'],c='k')\n",
    "    ax2.scatter(xArr2,dictToPlot['pfcGoalAcc'],c='dimgrey')\n",
    "    ax3.scatter(xArr1,dictToPlot['hpcJournAcc'],c='k')\n",
    "    ax3.scatter(xArr2,dictToPlot['pfcJournAcc'],c='dimgrey')\n",
    "    ax1.set_xlim([.1,.4])\n",
    "    ax1.set_ylim([0.5,1.01])\n",
    "    ax1.set_title('Start Acc')\n",
    "    ax2.set_xlim([.1,.4])\n",
    "    ax2.set_ylim([0.5,1.01])\n",
    "    ax1.set_title('Goal Acc')\n",
    "    ax3.set_xlim([.1,.4])\n",
    "    ax3.set_ylim([0.5,1.01])\n",
    "    ax3.set_title('Journ Acc')\n",
    "    \n",
    "    ax4.scatter(xArr1,dictToPlot['hpcStartWidth'],c='k')\n",
    "    ax4.scatter(xArr2,dictToPlot['pfcStartWidth'],c='dimgrey')\n",
    "    ax5.scatter(xArr1,dictToPlot['hpcGoalWidth'],c='k')\n",
    "    ax5.scatter(xArr2,dictToPlot['pfcGoalWidth'],c='dimgrey')\n",
    "    ax6.scatter(xArr1,dictToPlot['hpcJournWidth'],c='k')\n",
    "    ax6.scatter(xArr2,dictToPlot['pfcJournWidth'],c='dimgrey')\n",
    "    ax4.set_xlim([.1,.4])\n",
    "    ax4.set_ylim([0,1.5])\n",
    "    ax4.set_title('Start Width')\n",
    "    ax5.set_xlim([.1,.4])\n",
    "    ax5.set_ylim([0,1.5])\n",
    "    ax5.set_title('Goal Width')\n",
    "    ax6.set_xlim([.1,.4])\n",
    "    ax6.set_ylim([0,1.5])\n",
    "    ax6.set_title('Journ Width')\n",
    "    \n",
    "    #plt.show()\n",
    "    fig.savefig(savInputPath,bbox_inches='tight')\n",
    "    plt.close()\n",
    "    return None\n",
    "\n",
    "rawValuesFile = ''\n",
    "saveFigurFile = ''\n",
    "figVar = generateFigure(rawValuesFile,saveFigurFile)\n",
    "print('Done')\n"
   ]
  }
 ],
 "metadata": {
  "kernelspec": {
   "display_name": "Python 3",
   "language": "python",
   "name": "python3"
  },
  "language_info": {
   "codemirror_mode": {
    "name": "ipython",
    "version": 3
   },
   "file_extension": ".py",
   "mimetype": "text/x-python",
   "name": "python",
   "nbconvert_exporter": "python",
   "pygments_lexer": "ipython3",
   "version": "3.7.3"
  }
 },
 "nbformat": 4,
 "nbformat_minor": 2
}
