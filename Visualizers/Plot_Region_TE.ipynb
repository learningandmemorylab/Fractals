{
 "cells": [
  {
   "cell_type": "code",
   "execution_count": 10,
   "metadata": {},
   "outputs": [
    {
     "name": "stdout",
     "output_type": "stream",
     "text": [
      "Done\n"
     ]
    }
   ],
   "source": [
    "import os\n",
    "import random\n",
    "import scipy.stats\n",
    "import numpy as np\n",
    "import pandas as pd\n",
    "import seaborn as sns\n",
    "import scipy.io as spio\n",
    "import matplotlib.pyplot as plt\n",
    "from matplotlib.lines import Line2D\n",
    "from mlxtend.evaluate import permutation_test\n",
    "\n",
    "def loadValuesFromFile(fileOfInterest):\n",
    "    keyValDict = {}\n",
    "    fmat = spio.loadmat(fileOfInterest)\n",
    "    keyList = list(fmat.keys())[3:]\n",
    "    for skey in keyList:\n",
    "        keyValDict.update({skey:fmat.get(skey).flatten()})\n",
    "    return keyValDict\n",
    "\n",
    "def generateFigure(inputRawPath,inputSavPath):\n",
    "    valDict = loadValuesFromFile(inputRawPath)\n",
    "    null1 = np.mean(valDict['elearnNullHP'])+2*np.std(valDict['elearnNullHP'])/np.shape(valDict['elearnNullHP'])[0]**.5\n",
    "    null2 = np.mean(valDict['elearnNullPH'])+2*np.std(valDict['elearnNullPH'])/np.shape(valDict['elearnNullPH'])[0]**.5\n",
    "    null3 = np.mean(valDict['stableNullHP'])+2*np.std(valDict['stableNullHP'])/np.shape(valDict['stableNullHP'])[0]**.5\n",
    "    null4 = np.mean(valDict['stableNullPH'])+2*np.std(valDict['stableNullPH'])/np.shape(valDict['stableNullPH'])[0]**.5\n",
    "    xArr1 = np.random.uniform(.17,.23,size=np.shape(valDict['elearnTrueHP']))\n",
    "    xArr2 = np.random.uniform(.57,.63,size=np.shape(valDict['elearnTruePH']))\n",
    "    xArr3 = np.random.uniform(.17,.23,size=np.shape(valDict['stableTrueHP']))\n",
    "    xArr4 = np.random.uniform(.57,.63,size=np.shape(valDict['stableTruePH']))\n",
    "    fig = plt.figure(figsize=(20,20))\n",
    "    ax1 = fig.add_subplot(2,6,1)\n",
    "    ax2 = fig.add_subplot(2,6,3)\n",
    "    ax1.scatter(xArr1,valDict['elearnTrueHP'],s=10,c='dimgray')\n",
    "    ax1.scatter(xArr2,valDict['elearnTruePH'],s=10,c='slategray')\n",
    "    ax2.scatter(xArr3,valDict['stableTrueHP'],s=10,c='dimgray')\n",
    "    ax2.scatter(xArr4,valDict['stableTruePH'],s=10,c='slategray')\n",
    "    ax1.set_xlim([0,.8])\n",
    "    ax1.set_ylim([0,.4])\n",
    "    ax1.set_xticklabels('')\n",
    "    ax2.set_xlim([0,.8])\n",
    "    ax2.set_ylim([0,.4])\n",
    "    ax2.set_xticklabels('')\n",
    "    ax1.axhline(null1,.15,.35,linewidth=3,c='k')\n",
    "    ax1.axhline(null2,.65,.85,linewidth=3,c='k')\n",
    "    ax2.axhline(null3,.15,.35,linewidth=3,c='k')\n",
    "    ax2.axhline(null4,.65,.85,linewidth=3,c='k')\n",
    "    ax1.set_title('Early Learning')\n",
    "    ax2.set_title('Stable Performance')\n",
    "    #plt.show()\n",
    "    fig.savefig(inputSavPath,bbox_inches='tight')\n",
    "    plt.close()\n",
    "    return None\n",
    "\n",
    "rawP = ''\n",
    "savP = ''\n",
    "figVar = generateFigure(rawP,savP)\n",
    "print('Done')\n"
   ]
  }
 ],
 "metadata": {
  "kernelspec": {
   "display_name": "Python 3",
   "language": "python",
   "name": "python3"
  },
  "language_info": {
   "codemirror_mode": {
    "name": "ipython",
    "version": 3
   },
   "file_extension": ".py",
   "mimetype": "text/x-python",
   "name": "python",
   "nbconvert_exporter": "python",
   "pygments_lexer": "ipython3",
   "version": "3.7.3"
  }
 },
 "nbformat": 4,
 "nbformat_minor": 2
}
